{
 "cells": [
  {
   "cell_type": "markdown",
   "id": "59fdf5c6-15b2-434e-ad18-76f56ca8343b",
   "metadata": {},
   "source": [
    "### KNN算法实现"
   ]
  },
  {
   "cell_type": "markdown",
   "id": "74c05401-b0c1-4b80-a731-27b82b7e9ae3",
   "metadata": {},
   "source": [
    "#### KNN算法整个过程分为三步：1.计算待分类样本与其他样本之间的距离；2.统计距离最近的K个邻居；3.对于K个最近的邻居，他们属于哪个分类最多，待分类样本就属于哪一类。"
   ]
  },
  {
   "cell_type": "markdown",
   "id": "c081539a-4bdb-4607-a7d9-8bb039ee5d64",
   "metadata": {},
   "source": [
    "##### 通过Iris数据集实现KNN算法，定义了euc_dis函数计算两个样本之间的欧氏距离和knn_classify函数通过选票的方法预测样本标签。\n",
    "##### 也可以通过from sklearn.neighbors import KNeighborsClassifier 导入 KNeighborsClassifier,进行模型建立和训练。"
   ]
  },
  {
   "cell_type": "code",
   "execution_count": 1,
   "id": "1b6be7b2-5e00-48db-a116-c8c57735e3fd",
   "metadata": {},
   "outputs": [],
   "source": [
    "import numpy as np\n",
    "from sklearn import datasets\n",
    "from collections import Counter\n",
    "from sklearn.model_selection import train_test_split\n",
    "from sklearn.neighbors import KNeighborsClassifier\n",
    "from sklearn.metrics import accuracy_score"
   ]
  },
  {
   "cell_type": "markdown",
   "id": "35a14592-cf7c-463a-99c4-c94c0c11b6c7",
   "metadata": {},
   "source": [
    "#### 导入Iris数据集"
   ]
  },
  {
   "cell_type": "code",
   "execution_count": 2,
   "id": "78e64ccc-7c60-4c92-8430-caffea5f5f6a",
   "metadata": {},
   "outputs": [],
   "source": [
    "iris = datasets.load_iris()\n",
    "X = iris.data\n",
    "y = iris.target\n",
    "X_train, X_test, y_train, y_test = train_test_split(X, y, random_state=0)"
   ]
  },
  {
   "cell_type": "code",
   "execution_count": 3,
   "id": "ba7174be-04d2-4c56-96a8-e4fe00cf3ecf",
   "metadata": {},
   "outputs": [],
   "source": [
    "def euc_dis(instance1, instance2):\n",
    "    \"\"\"\n",
    "    计算两个样本instance1和instance2之间的欧式距离\n",
    "    instance1:第一个样本,array型\n",
    "    instance2:第二个样本,array型\n",
    "    \"\"\"\n",
    "    dist = np.sqrt(sum((instance1 - instance2) ** 2))\n",
    "    return dist"
   ]
  },
  {
   "cell_type": "code",
   "execution_count": 9,
   "id": "600eaf18-cc4c-4e61-af2c-65688349aba1",
   "metadata": {},
   "outputs": [],
   "source": [
    "def knn_classify(X, y, testInstance, k):\n",
    "    \"\"\"\n",
    "    给定一个测试数据testInstance,通过KNN算法来预测它的标签\n",
    "    X:训练数据的特征\n",
    "    y:训练数据的标签\n",
    "    testInstance:测试数据,这里假定一个测试数据为array型\n",
    "    k:划分的类别数目\n",
    "    \"\"\"\n",
    "    # 返回testInstance的预测标签={0, 1, 2}\n",
    "    distances = [euc_dis(x, testInstance) for x in X]\n",
    "    # 排序\n",
    "    kneighbors = np.argsort(distances)[:k]\n",
    "    # count是一个字典\n",
    "    count = Counter(y[kneighbors])\n",
    "    # count.most_common()[0][0]是票数最多的\n",
    "    return count.most_common()[0][0]"
   ]
  },
  {
   "cell_type": "code",
   "execution_count": 11,
   "id": "eaad93f6-f76a-49ea-b22c-d4a0773d4119",
   "metadata": {},
   "outputs": [
    {
     "name": "stdout",
     "output_type": "stream",
     "text": [
      "[np.int64(2), np.int64(1), np.int64(0), np.int64(2), np.int64(0)]\n",
      "37\n",
      "sklearn KNN-model's Accuracy is:0.974\n",
      "My KNN-model's Accuracy is:0.974\n"
     ]
    }
   ],
   "source": [
    "# 预测结果Iris是典型的三分类数据集,这里K指定为3\n",
    "predictions = [knn_classify(X_train, y_train, data, 3) for data in X_test]\n",
    "print(predictions[:5])\n",
    "corrent = np.count_nonzero((predictions==y_test)==True)\n",
    "print(corrent)\n",
    "clf = KNeighborsClassifier(n_neighbors=3)\n",
    "clf.fit(X_train, y_train)\n",
    "print(\"sklearn KNN-model's Accuracy is:%.3f\"%(accuracy_score(y_test,\n",
    "      clf.predict(X_test))))\n",
    "print(\"My KNN-model's Accuracy is:%.3f\"%(corrent/len(X_test)))"
   ]
  },
  {
   "cell_type": "code",
   "execution_count": null,
   "id": "55a336f1-958a-4b76-b27d-516f3836cfae",
   "metadata": {},
   "outputs": [],
   "source": []
  }
 ],
 "metadata": {
  "kernelspec": {
   "display_name": "sklearn-3.10.6",
   "language": "python",
   "name": "sklearn-3.10.6"
  },
  "language_info": {
   "codemirror_mode": {
    "name": "ipython",
    "version": 3
   },
   "file_extension": ".py",
   "mimetype": "text/x-python",
   "name": "python",
   "nbconvert_exporter": "python",
   "pygments_lexer": "ipython3",
   "version": "3.10.6"
  }
 },
 "nbformat": 4,
 "nbformat_minor": 5
}
