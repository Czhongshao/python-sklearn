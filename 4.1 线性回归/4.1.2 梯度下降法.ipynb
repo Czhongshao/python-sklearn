{
 "cells": [
  {
   "cell_type": "markdown",
   "id": "f958666f-eea6-4dae-9c76-e9d232f38de1",
   "metadata": {},
   "source": [
    "## 梯度下降法\n",
    "#### 实现函数：y = (x - 1) ^ 3 + 4"
   ]
  },
  {
   "cell_type": "code",
   "execution_count": 1,
   "id": "0ade9580-08f8-47e0-94b7-9eb7691842bb",
   "metadata": {},
   "outputs": [],
   "source": [
    "def func_1d(x):\n",
    "    \"\"\"\n",
    "    目标函数\n",
    "    :param x: 自变量\n",
    "    :return: 因变量\n",
    "    \"\"\"\n",
    "    return (x - 1) ** 3 + 4"
   ]
  },
  {
   "cell_type": "code",
   "execution_count": 2,
   "id": "5ef2eea0-62c5-42e2-8cf5-68268c457114",
   "metadata": {},
   "outputs": [],
   "source": [
    "def grad_1d(x):\n",
    "    \"\"\"\n",
    "    目标函数的梯度\n",
    "    :param x: 自变量,标量\n",
    "    :return: 因变量,标量\n",
    "    \"\"\"\n",
    "    return 3 * (x - 1)"
   ]
  },
  {
   "cell_type": "code",
   "execution_count": 3,
   "id": "2046a219-bdc3-4c5b-a3c4-b1f5292dc24d",
   "metadata": {},
   "outputs": [],
   "source": [
    "def gradient_descent_1d(grad, cur_x, learning_rate, precision, max_iters):\n",
    "    \"\"\"\n",
    "    一维问题的梯度下降法\n",
    "    :param grad: 目标函数的梯度\n",
    "    :param cur_x: 当前x值,通过参数可以提供初始值\n",
    "    :param learning_rate: 学习率,也相当于设置步长\n",
    "    :param precision: 设置收敛精度\n",
    "    :param max_iters: 最大迭代次数\n",
    "    :return: 局部最小值x\n",
    "    \"\"\"\n",
    "    for i in range(max_iters):\n",
    "        grad_cur = grad(cur_x)\n",
    "        if abs(grad_cur) < precision:\n",
    "            break # 当梯度趋近于0时,视为收敛\n",
    "        cur_x = cur_x - grad_cur * learning_rate\n",
    "        print(\"第\", i, \"次迭代:x值为 \", cur_x)\n",
    "\n",
    "    print(\"局部最小值 x = \", cur_x)\n",
    "    print(\"局部最小值 y = \", func_1d(cur_x))\n",
    "    return cur_x"
   ]
  },
  {
   "cell_type": "code",
   "execution_count": 4,
   "id": "2cf77c03-ce68-4ab5-a8c3-8c45b2de4eb7",
   "metadata": {},
   "outputs": [
    {
     "name": "stdout",
     "output_type": "stream",
     "text": [
      "第 0 次迭代:x值为  4.6\n",
      "第 1 次迭代:x值为  2.44\n",
      "第 2 次迭代:x值为  1.5759999999999998\n",
      "第 3 次迭代:x值为  1.2304\n",
      "第 4 次迭代:x值为  1.09216\n",
      "第 5 次迭代:x值为  1.036864\n",
      "第 6 次迭代:x值为  1.0147456\n",
      "第 7 次迭代:x值为  1.00589824\n",
      "第 8 次迭代:x值为  1.002359296\n",
      "第 9 次迭代:x值为  1.0009437184\n",
      "第 10 次迭代:x值为  1.00037748736\n",
      "第 11 次迭代:x值为  1.000150994944\n",
      "第 12 次迭代:x值为  1.0000603979776\n",
      "第 13 次迭代:x值为  1.00002415919104\n",
      "第 14 次迭代:x值为  1.000009663676416\n",
      "第 15 次迭代:x值为  1.0000038654705663\n",
      "第 16 次迭代:x值为  1.0000015461882266\n",
      "第 17 次迭代:x值为  1.0000006184752905\n",
      "第 18 次迭代:x值为  1.0000002473901162\n",
      "局部最小值 x =  1.0000002473901162\n",
      "局部最小值 y =  4.0\n"
     ]
    }
   ],
   "source": [
    "if __name__=='__main__':\n",
    "    gradient_descent_1d(grad_1d, cur_x = 10, learning_rate=0.2, precision = 0.000001,\n",
    "                        max_iters = 10000)"
   ]
  },
  {
   "cell_type": "code",
   "execution_count": null,
   "id": "ecd5a749-4b7f-4a23-b593-7786d8ca5692",
   "metadata": {},
   "outputs": [],
   "source": []
  }
 ],
 "metadata": {
  "kernelspec": {
   "display_name": "sklearn-3.10.6",
   "language": "python",
   "name": "sklearn-3.10.6"
  },
  "language_info": {
   "codemirror_mode": {
    "name": "ipython",
    "version": 3
   },
   "file_extension": ".py",
   "mimetype": "text/x-python",
   "name": "python",
   "nbconvert_exporter": "python",
   "pygments_lexer": "ipython3",
   "version": "3.10.6"
  }
 },
 "nbformat": 4,
 "nbformat_minor": 5
}
