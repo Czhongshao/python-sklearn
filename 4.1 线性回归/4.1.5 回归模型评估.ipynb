{
 "cells": [
  {
   "cell_type": "markdown",
   "id": "a89bfa06-fd17-4d53-b913-181b53aff62b",
   "metadata": {},
   "source": [
    "### 回归模型评估\n",
    "#### 当训练出线性回归模型之后,需要对回归模型进行评估,最常用的评估回归模型的指标有\n",
    "#### 平均绝对误差、均方误差、决定系数和解释方差"
   ]
  },
  {
   "cell_type": "markdown",
   "id": "8741984f-be40-4153-a852-a8e241ffb43c",
   "metadata": {},
   "source": [
    "##### 平均绝对误差：MAE 是观测值与真实值的偏差的绝对值的平均值\n",
    "##### 均方误差：SSE 是观测值和真实值的偏差的平方和\n",
    "##### 决定系数：R2也成为判定系数，在机器学习中常用r2_score表示，决定系数反应自变量通过回归关系解释因变量的比例或能力。R2越接近1，表明模型的变量x对y的解释能力越强，模型对数据你和的效果也越好；越接近0，表明模型拟合的越差\n",
    "##### 解释方差：解释方差反映自变量通过方差解释因变量的比例或能力"
   ]
  },
  {
   "cell_type": "code",
   "execution_count": 9,
   "id": "bf9ee22b-1ccb-4997-a23b-8438d4d4a674",
   "metadata": {},
   "outputs": [
    {
     "name": "stdout",
     "output_type": "stream",
     "text": [
      "0.5\n",
      "0.375\n",
      "0.9486081370449679\n",
      "0.9571734475374732\n"
     ]
    }
   ],
   "source": [
    "from sklearn.metrics import mean_absolute_error, mean_squared_error, r2_score, explained_variance_score\n",
    "\n",
    "y_true = [3, -0.5, 2, 7]\n",
    "y_pred = [2.5, 0.0, 2, 8]\n",
    "\n",
    "print(mean_absolute_error(y_true, y_pred))\n",
    "print(mean_squared_error(y_true, y_pred))\n",
    "print(r2_score(y_true, y_pred))\n",
    "print(explained_variance_score(y_true, y_pred))"
   ]
  },
  {
   "cell_type": "code",
   "execution_count": null,
   "id": "8634be37-ed80-49bc-aadb-60458772966e",
   "metadata": {},
   "outputs": [],
   "source": []
  },
  {
   "cell_type": "code",
   "execution_count": null,
   "id": "86053a38-50e0-4187-b94f-fc4d7418a3b6",
   "metadata": {},
   "outputs": [],
   "source": []
  }
 ],
 "metadata": {
  "kernelspec": {
   "display_name": "sklearn-3.10.6",
   "language": "python",
   "name": "sklearn-3.10.6"
  },
  "language_info": {
   "codemirror_mode": {
    "name": "ipython",
    "version": 3
   },
   "file_extension": ".py",
   "mimetype": "text/x-python",
   "name": "python",
   "nbconvert_exporter": "python",
   "pygments_lexer": "ipython3",
   "version": "3.10.6"
  }
 },
 "nbformat": 4,
 "nbformat_minor": 5
}
