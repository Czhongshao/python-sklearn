{
 "cells": [
  {
   "cell_type": "markdown",
   "id": "b908da7d-946f-4450-abd6-a4b5fba75cb3",
   "metadata": {},
   "source": [
    "### 分类模型评估\n"
   ]
  },
  {
   "cell_type": "markdown",
   "id": "a321ae07-7918-4fae-a8d0-8a7709ef61a7",
   "metadata": {},
   "source": [
    "#### 1.混淆矩阵\n",
    "##### 主要反映了分类结果占正确结果的比值，是监督学习分类中的一种可视化工具。矩阵中的每一行代表实例的预测类别，每一列代表实例的真实类别"
   ]
  },
  {
   "cell_type": "markdown",
   "id": "3b9cc711-00a3-4f6c-a67e-0f7fdb41500e",
   "metadata": {},
   "source": [
    "##### 使用sklearn 的metrics模块中的 confusion_matrix 求得混淆矩阵"
   ]
  },
  {
   "cell_type": "code",
   "execution_count": 1,
   "id": "a0db9ca1-b2b1-4a8d-8ba6-6557a8f227dd",
   "metadata": {},
   "outputs": [
    {
     "name": "stdout",
     "output_type": "stream",
     "text": [
      "[[1 1]\n",
      " [1 1]]\n"
     ]
    }
   ],
   "source": [
    "from sklearn.metrics import confusion_matrix\n",
    "y_true = [1, 1, 0, 0]\n",
    "y_pred = [1, 0, 1, 0]\n",
    "print(confusion_matrix(y_true, y_pred))"
   ]
  },
  {
   "cell_type": "markdown",
   "id": "6d22af8e-1362-4381-8264-4ab77cde897c",
   "metadata": {},
   "source": [
    "#### 绘制混淆矩阵\n",
    "##### 结合Seaborn 中的heatmap 绘制混淆矩阵的热力图，Seaborn 是基于Matplotlib 的图形可视化Python包，它提供了一个高级界面，用于绘制有吸引力的统计图形。"
   ]
  },
  {
   "cell_type": "code",
   "execution_count": 4,
   "id": "7c8d339f-615b-4283-94e5-50f77e68bcb4",
   "metadata": {},
   "outputs": [],
   "source": [
    "import seaborn as sns\n",
    "import matplotlib.pyplot as plt\n",
    "from sklearn.metrics import confusion_matrix"
   ]
  },
  {
   "cell_type": "code",
   "execution_count": 6,
   "id": "9d017643-8723-48e0-8afa-a104e794395e",
   "metadata": {},
   "outputs": [
    {
     "name": "stdout",
     "output_type": "stream",
     "text": [
      "[[3 1 0]\n",
      " [0 4 0]\n",
      " [1 0 3]]\n"
     ]
    },
    {
     "data": {
      "image/png": "[encoded data removed]",
      "text/plain": [
       "<Figure size 640x480 with 2 Axes>"
      ]
     },
     "metadata": {},
     "output_type": "display_data"
    }
   ],
   "source": [
    "f, ax = plt.subplots()\n",
    "y_true = [0, 0, 1, 2, 1, 2, 0, 2, 2, 0, 1, 1]\n",
    "y_pred = [1, 0, 1, 2, 1, 0, 0, 2, 2, 0, 1, 1]\n",
    "C = confusion_matrix(y_true, y_pred, labels=[0, 1, 2])\n",
    "print(C)\n",
    "# 画热力图\n",
    "sns.heatmap(C, annot=True, ax=ax)\n",
    "# 标题\n",
    "ax.set_title('confusion matrix')\n",
    "# x轴\n",
    "ax.set_xlabel('predict')\n",
    "# y轴\n",
    "ax.set_ylabel('true')\n",
    "plt.show()"
   ]
  },
  {
   "cell_type": "markdown",
   "id": "85511a32-9d5b-46a2-8c74-ad8339010111",
   "metadata": {},
   "source": [
    "### 每一行之和表示该类别的真实样本数量，每一列之和表示被预测为该类别的样本数量。\n",
    "#### 第一列说明有4个属于第0类的样本，其中有3个被正确预测，有1个属于第2类的样本被错误预测为第0类。\n",
    "#### 第二列说明有5个属于第一类的样本，其中有4个被正确预测，有1个属于第0类的样本被错误预测为第1类。\n",
    "#### 第三列说明有3个属于第2类的样本全部被正确预测。"
   ]
  },
  {
   "cell_type": "markdown",
   "id": "2bb98f80-07ab-4de9-aebb-104913347b3f",
   "metadata": {},
   "source": [
    "#### 2.准确率\n",
    "##### 准确率就是分类正确的样本数除以样本总数\n",
    "\n",
    "##### 准确率对于样本数据不均衡的问题不具有说服力，当样本不均衡时，准确率即时很高，也不代表分类效果好。"
   ]
  },
  {
   "cell_type": "markdown",
   "id": "b7253b1a-5c5a-4db2-a0d2-2c516d866f35",
   "metadata": {},
   "source": [
    "##### 使用sklearn 的 metrics 模块中的 accuracy_score计算准确率"
   ]
  },
  {
   "cell_type": "code",
   "execution_count": 7,
   "id": "a68f3416-5203-441e-a7e1-88324a502393",
   "metadata": {},
   "outputs": [
    {
     "name": "stdout",
     "output_type": "stream",
     "text": [
      "0.5\n"
     ]
    }
   ],
   "source": [
    "from sklearn.metrics import accuracy_score\n",
    "y_true = [1, 1, 1, 1, 1, 0]\n",
    "y_pred = [1, 0, 0, 1, 1, 1]\n",
    "print(accuracy_score(y_true, y_pred))"
   ]
  },
  {
   "cell_type": "markdown",
   "id": "cfe26d13-d94e-4b61-a472-a8b5883d3a45",
   "metadata": {},
   "source": [
    "#### 3.精准率\n",
    "##### 精准率代表的是所有被分类为正例的样本中，真正是正例的比例。简单来说就是1有多大概率"
   ]
  },
  {
   "cell_type": "markdown",
   "id": "76ebef1e-57ef-4daf-b08e-3409b87dd619",
   "metadata": {},
   "source": [
    "##### 使用sklearn 的metrics模块中的precision_score 计算精确率"
   ]
  },
  {
   "cell_type": "code",
   "execution_count": 9,
   "id": "c0f2c4cd-afb6-4a65-bceb-b8206f712b3b",
   "metadata": {},
   "outputs": [
    {
     "name": "stdout",
     "output_type": "stream",
     "text": [
      "0.75\n"
     ]
    }
   ],
   "source": [
    "from sklearn.metrics import precision_score\n",
    "print(precision_score(y_true, y_pred))"
   ]
  },
  {
   "cell_type": "markdown",
   "id": "0d9eb35d-83f8-413a-bb76-c25ee18773bf",
   "metadata": {},
   "source": [
    "#### 4.召回率\n",
    "##### 召回率就是样本中的正例有多少被预测正确"
   ]
  },
  {
   "cell_type": "markdown",
   "id": "ce0bb6f6-fa10-4387-bbde-f5dbeddc27f6",
   "metadata": {},
   "source": [
    "##### 使用sklearn 的metrics模块中的recall_score 计算召回率"
   ]
  },
  {
   "cell_type": "code",
   "execution_count": 10,
   "id": "b73ec413-0035-42fb-baf7-a584e2eb7a8e",
   "metadata": {},
   "outputs": [
    {
     "name": "stdout",
     "output_type": "stream",
     "text": [
      "0.6\n"
     ]
    }
   ],
   "source": [
    "from sklearn.metrics import recall_score\n",
    "print(recall_score(y_true, y_pred))"
   ]
  },
  {
   "cell_type": "markdown",
   "id": "62f67716-2afd-4b41-8bf1-50235af04b77",
   "metadata": {},
   "source": [
    "#### 5.调和平均值\n",
    "##### 调和平均值就是精确率和召回率的扩展"
   ]
  },
  {
   "cell_type": "markdown",
   "id": "d59999ab-aa6c-4664-bc87-c5bb5448187c",
   "metadata": {},
   "source": [
    "##### 使用sklearn 的metrics 模块中的f1_score计算调和平均值"
   ]
  },
  {
   "cell_type": "code",
   "execution_count": 12,
   "id": "f922b4d9-60ac-469b-957c-2c0879d88d5c",
   "metadata": {},
   "outputs": [
    {
     "name": "stdout",
     "output_type": "stream",
     "text": [
      "0.6666666666666666\n"
     ]
    }
   ],
   "source": [
    "from sklearn.metrics import f1_score\n",
    "print(f1_score(y_true, y_pred))"
   ]
  },
  {
   "cell_type": "markdown",
   "id": "b919e5ad-cb1a-412d-ae60-cb2707d6e45a",
   "metadata": {},
   "source": [
    "#### 6.宏平均\n",
    "##### 调和平均值取算数平均值即为宏平均"
   ]
  },
  {
   "cell_type": "markdown",
   "id": "52fa77d6-49a3-4988-9dcf-a1cb2db2ec88",
   "metadata": {},
   "source": [
    "#### 7.微平均\n",
    "##### 微平均与准确率一样，即分类正确的样本数占样本总数的比例"
   ]
  },
  {
   "cell_type": "markdown",
   "id": "70656ed8-81cd-4c8f-8434-c116d3d7c765",
   "metadata": {},
   "source": [
    "#### 8.分类总指标\n",
    "##### 使用sklearn 的metrics 模块中的 classification_report 显示主要分类指标的文本报告，通过classification_report 分类文本报告便可知道分类结果中各个类别的精确率、召回率和调和平均值"
   ]
  },
  {
   "cell_type": "code",
   "execution_count": 14,
   "id": "3b4a56d3-3d10-4a41-b273-060ca39e939d",
   "metadata": {},
   "outputs": [
    {
     "name": "stdout",
     "output_type": "stream",
     "text": [
      "              precision    recall  f1-score   support\n",
      "\n",
      "           0       0.00      0.00      0.00         1\n",
      "           1       0.75      0.60      0.67         5\n",
      "\n",
      "    accuracy                           0.50         6\n",
      "   macro avg       0.38      0.30      0.33         6\n",
      "weighted avg       0.62      0.50      0.56         6\n",
      "\n"
     ]
    }
   ],
   "source": [
    "from sklearn.metrics import classification_report\n",
    "print(classification_report(y_true, y_pred))"
   ]
  },
  {
   "cell_type": "markdown",
   "id": "1532c4b3-8e1f-4a31-b044-57c7c0c32d43",
   "metadata": {},
   "source": [
    "#### 9.ROC和AUC\n",
    "##### ROC和AUC(ROC曲线下的面积)"
   ]
  },
  {
   "cell_type": "markdown",
   "id": "5b30cd13-2a70-497e-a062-666417956e3c",
   "metadata": {},
   "source": [
    "# 未完待续！！！！！"
   ]
  },
  {
   "cell_type": "code",
   "execution_count": null,
   "id": "4176c2b5-882c-4883-ac28-f09cc3b06b01",
   "metadata": {},
   "outputs": [],
   "source": []
  }
 ],
 "metadata": {
  "kernelspec": {
   "display_name": "sklearn-3.10.6",
   "language": "python",
   "name": "sklearn-3.10.6"
  },
  "language_info": {
   "codemirror_mode": {
    "name": "ipython",
    "version": 3
   },
   "file_extension": ".py",
   "mimetype": "text/x-python",
   "name": "python",
   "nbconvert_exporter": "python",
   "pygments_lexer": "ipython3",
   "version": "3.10.6"
  }
 },
 "nbformat": 4,
 "nbformat_minor": 5
}
