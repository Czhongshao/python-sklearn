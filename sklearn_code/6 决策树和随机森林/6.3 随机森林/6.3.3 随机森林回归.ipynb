{
 "cells": [
  {
   "cell_type": "markdown",
   "id": "d3b77bf7-6afa-4642-adfe-fc469b0a9a17",
   "metadata": {},
   "source": [
    "### 随机森林回归\n",
    "##### 使用skearn的ensemble模块中的RandomForestRegresson可以实现回归。"
   ]
  },
  {
   "cell_type": "code",
   "execution_count": null,
   "id": "55244f43-aeea-4b7f-bc08-2a9924d42a78",
   "metadata": {},
   "outputs": [],
   "source": []
  }
 ],
 "metadata": {
  "kernelspec": {
   "display_name": "sklearn-3.10.6",
   "language": "python",
   "name": "sklearn-3.10.6"
  },
  "language_info": {
   "codemirror_mode": {
    "name": "ipython",
    "version": 3
   },
   "file_extension": ".py",
   "mimetype": "text/x-python",
   "name": "python",
   "nbconvert_exporter": "python",
   "pygments_lexer": "ipython3",
   "version": "3.10.6"
  }
 },
 "nbformat": 4,
 "nbformat_minor": 5
}
