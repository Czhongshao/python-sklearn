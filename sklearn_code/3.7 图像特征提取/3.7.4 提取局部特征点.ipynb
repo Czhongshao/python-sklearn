{
 "cells": [
  {
   "cell_type": "markdown",
   "id": "8a4cfe6a-caa1-4989-95aa-fcd98cb8f676",
   "metadata": {},
   "source": [
    "# 提取局部特征点\n",
    "## 提取局部特征点最著名的算法就是SIFT 尺度不变特征变换算法"
   ]
  },
  {
   "cell_type": "code",
   "execution_count": 1,
   "id": "f6707700-8918-40c8-a3a9-86aaf85fda98",
   "metadata": {},
   "outputs": [],
   "source": [
    "import cv2"
   ]
  },
  {
   "cell_type": "code",
   "execution_count": 2,
   "id": "fe36e83d-8320-49ea-a296-c0e20979b4c3",
   "metadata": {},
   "outputs": [],
   "source": [
    "def recognition(image_path, save_image):\n",
    "    # 调用SIFT算法\n",
    "    sift = cv2.SIFT_create()\n",
    "    img = cv2.imread(image_path)\n",
    "    # cv2.COLOR_BGR2GRAY 灰度图\n",
    "    gray = cv2.cvtColor(img, cv2.COLOR_BGR2GRAY)\n",
    "    kp, des = sift.detectAndCompute(img, None)\n",
    "    cv2.imshow('gray', gray)\n",
    "    cv2.waitKey(0)\n",
    "    # 保存图像\n",
    "    img_save = cv2.drawKeypoints(img, kp, img, color=(255, 0, 255))\n",
    "    cv2.imshow('point', img_save)\n",
    "    cv2.imwrite('{}'.format(save_image), img)\n",
    "    cv2.waitKey(0)"
   ]
  },
  {
   "cell_type": "code",
   "execution_count": 3,
   "id": "a4bcdca0-da89-4155-aaf3-f028cfcd9fda",
   "metadata": {},
   "outputs": [],
   "source": [
    "if __name__ == '__main__':\n",
    "    recognition(image_path='iris.png', save_image='iris_save.png')"
   ]
  }
 ],
 "metadata": {
  "kernelspec": {
   "display_name": "sklearn-3.10.6",
   "language": "python",
   "name": "sklearn-3.10.6"
  },
  "language_info": {
   "codemirror_mode": {
    "name": "ipython",
    "version": 3
   },
   "file_extension": ".py",
   "mimetype": "text/x-python",
   "name": "python",
   "nbconvert_exporter": "python",
   "pygments_lexer": "ipython3",
   "version": "3.10.6"
  }
 },
 "nbformat": 4,
 "nbformat_minor": 5
}
